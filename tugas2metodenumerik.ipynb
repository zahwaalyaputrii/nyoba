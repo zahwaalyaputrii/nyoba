ZAHWA ALYA PUTRI - 140710230003

# TUGAS 1 

Tulis text berikut, menggunakan vim, simpan dalam file bernama paulo.txt:  
	
**For every sunset, there is a sunrise;**  
**for every dream that ends, one is born;**  
**for every door that closes, another one opens;**  
**for every love that ends there is a new beginning;**  
**for every departure there is an arrival;**  
**for every defeat there is a victory.**  
  
**Nothing is ever finished, as long as there is life.**  
  
Jelaskan bagaimana mengerjakan hal-hal berikut dengan menggunakan awk dan perintah shell lain.  

1. Menghitung baris, kata, dan karakter yang terdapat dalam teks.  
2. Menemukan baris-baris yang mengandung token teks tertentu, misalnya: ‘love’ ‘victory’, ‘dream’, dan lain-lain.  
3. Mengganti bagian dari teks dalam baris, misalnya ‘every’ dengan ‘each’.  
4. Menghitung kata dan huruf per baris.  

**JAWAB :**    
Langkah pertama untuk membuat ke-4 hal diatas adalah sebagai berikut :  
1. Membuka command promt Ubuntu  
2. Membuat directory atau folder untuk tugas ini dengan memberikan perintah ```mkdir metodenumerik``` kemudian *change directory* dengan perintah ```cd metodenumerik```.  
3. Install VIM jika belum ada dengan perintah ```sudo apt install vim```  
4. Setelah itu berikan perintah kode sumber dengan format vim namafile.typefile seperti ```vim paulo.txt```.  
5. Setelah itu copy dan paste kalimat diatas pada windows vim dengan menekan tombol i untuk insert, jika ingin menyimpan tekan esc --> shift+w, dan shift+q untuk keluar.  

## Menghitung Baris, kata, dan karakter yang terdapat dalam teks   
Kode berikut menggunakan AWK untuk menghitung jumlah baris, kata, dan karakter dalam file *paulo.txt*.  
```awk '{chars += length($0) + 1; words += NF; lines++} END {print "Baris:", lines, "Kata:", words, "Karakter:", chars}' paulo.txt```  
 Dimana :  
 1. *length($0) + 1* : untuk menghitung jumlah karakter dalam setiap baris termasuk newline.  
 2. *NF* : untuk menghitung jumlah kata dalam setiap baris.
 3. *lines++* : untuk menambah jumlah baris.
 4. *END {print "Baris:", lines, "Kata:", words, "Karakter:", chars}' paulo.txt* : untuk mencetak hasil setelah semua baris diproses dalam file paulo.txt.

## Menemukan baris-baris yang mengandung token teks tertentu, misalnya: ‘love’ ‘victory’, ‘dream’, dan 'for'  
Kode berikut menggunakan AWK untuk menemukan baris-baris yang mengandung token teks tertentu, misalnya: ‘love’ ‘victory’, ‘dream’, dan 'for' dalam file *paulo.txt*.  
```awk "/\b(love|victory|dream)\b/" paulo.txt```  
Dimana :  
1. *\b* : merupakan batas kata untuk memastikan pencocokan hanya kata lengkap, bukan bagian dari kata lain.
2. | : sebagai operator OR, sehingga cocok dengan salah satu kata dalam daftar.
3. *awk* : mencetak hanya baris yang mengandung setidaknya satu dari kalimat diatas.

## Mengganti bagian dari teks dalam baris, misalnya 'every' dengan 'each'
Kode berikut menggunakan AWK untuk mengganti bagian dari teks dalam baris, misalnya 'every' dengan 'each' dalam file *paulo.txt*.   
```awk "{gsub(/\<every\>/, \"each\"); print}" paulo.txt```   
Dimana : 
1. *awk* untuk menjalankan program awk.  
2. *gsub()* merupakan fungsi awk yang mengganti semua kemunculan pola dalam setiap baris.
3. */\<every\>/* menandakan bahwa kata "every" akan diganti.
4. *\"each\"* kata pengganti every.
5. *print}" paulo.txt* mencetak setiap baris setelah perubahan yang terdapat pada file paulo.txt.

## Menghitung kata dan huruf per baris
Kode berikut menggunakan AWK untuk menghitung kata dan huruf per baris dalam file *paulo.txt*.  
```awk '{gsub(/\bevery\b/, "each"); print $0, "- Kata:", NF, "Huruf:", length($0)}' paulo.txt```  
Dimana :  
1. *gsub(/\bevery\b/, "each")* untuk mengganti kata 'every' dengan 'each'.  
2. *NF* untuk menghitung kata dalam setiap baris.  
3. *print 0, "- Kata:", NF, "Huruf:", length(0)* untuk mencetak baris yang telah dimodifikasi dengan informasi tambahan.  
4. *length($0)* untuk menghitung jumlah karakter dalam baris.
   
